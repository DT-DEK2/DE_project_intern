{
 "cells": [
  {
   "attachments": {},
   "cell_type": "markdown",
   "metadata": {},
   "source": [
    "**IMPORT LIBRARY**"
   ]
  },
  {
   "cell_type": "code",
   "execution_count": 31,
   "metadata": {},
   "outputs": [],
   "source": [
    "# import thư viện\n",
    "import requests\n",
    "import time\n",
    "import random\n",
    "import pandas as pd\n",
    "import concurrent.futures\n",
    "import os\n",
    "import csv\n",
    "import json\n",
    "from tqdm import tqdm\n",
    "from IPython.display import clear_output"
   ]
  },
  {
   "cell_type": "code",
   "execution_count": 32,
   "metadata": {},
   "outputs": [],
   "source": [
    "#Khai báo header\n",
    "headers = {\n",
    "    'User-Agent': 'Mozilla/5.0 (Windows NT 6.3; Win64; x64; rv:83.0) Gecko/20100101 Firefox/83.0',\n",
    "    'Accept': 'application/json, text/plain, */*',\n",
    "    'Accept-Language': 'vi-VN,vi;q=0.8,en-US;q=0.5,en;q=0.3',\n",
    "    'Referer': 'https://tiki.vn/?src=header_tiki',\n",
    "    'x-guest-token': '8jWSuIDBb2NGVzr6hsUZXpkP1FRin7lY',\n",
    "    'Connection': 'keep-alive',\n",
    "    'TE': 'Trailers',\n",
    "}"
   ]
  },
  {
   "cell_type": "code",
   "execution_count": 33,
   "metadata": {},
   "outputs": [],
   "source": [
    "params = {\n",
    "    'limit': '48',\n",
    "    'include': 'sale-attrs,badges,product_links,brand,category,stock_item,advertisement',\n",
    "    'aggregations': '1',\n",
    "    'trackity_id': '70e316b0-96f2-dbe1-a2ed-43ff60419991',\n",
    "    'category': '1883',\n",
    "    'page': '1',\n",
    "}"
   ]
  },
  {
   "cell_type": "code",
   "execution_count": 34,
   "metadata": {},
   "outputs": [],
   "source": [
    "def read_src_urlkey_from_txt(file_path):\n",
    "    with open(file_path, 'r') as file:\n",
    "        lines = file.readlines()\n",
    "    pairs = [line.strip().split(',') for line in lines]\n",
    "    return pairs"
   ]
  },
  {
   "cell_type": "code",
   "execution_count": 35,
   "metadata": {},
   "outputs": [],
   "source": [
    "def fetch_product_ids(page, src, urlKey):\n",
    "    params['page'] = page\n",
    "    params['src'] = src\n",
    "    params['urlKey'] = urlKey\n",
    "    response = requests.get('https://tiki.vn/api/v2/products', headers=headers, params=params)\n",
    "    product_ids = []\n",
    "    \n",
    "    if response.status_code == 200 and response.json().get('data'): \n",
    "        print(f'Request success on page {page} for {src}, {urlKey}!!!')\n",
    "        \n",
    "        for record in response.json().get('data'):\n",
    "            product_ids.append({'id': record.get('id')})\n",
    "    else:\n",
    "        if response.status_code != 200:\n",
    "            print(f'Request failed on page {page} for {src}, {urlKey} with status code {response.status_code}.')\n",
    "        elif not response.json().get('data'):\n",
    "            print(f'No more data on page {page} for {src}, {urlKey}.')\n",
    "\n",
    "    return product_ids, response.status_code, bool(response.json().get('data'))"
   ]
  },
  {
   "cell_type": "code",
   "execution_count": 36,
   "metadata": {},
   "outputs": [],
   "source": [
    "def parser_product(json):\n",
    "    d = dict()\n",
    "    d['id'] = json.get('id')\n",
    "    d['master_id'] = json.get('master_id')\n",
    "    d['sku'] = json.get('sku')\n",
    "    d['all_time_quantity_sold'] = json.get('all_time_quantity_sold')\n",
    "\n",
    "    breadcrumbs = json.get('breadcrumbs')\n",
    "    if breadcrumbs:\n",
    "        first_breadcrumb = breadcrumbs[0]  # Get the first item in the breadcrumbs list\n",
    "        d['breadcrumb_name'] = first_breadcrumb.get('name')  # Get the 'name' of the first breadcrumb\n",
    "        d['breadcrumb_category_id'] = first_breadcrumb.get('category_id') \n",
    "\n",
    "    quantity_sold = json.get('quantity_sold')\n",
    "    if quantity_sold is not None:\n",
    "        d['quantity_sold'] = quantity_sold.get('value')\n",
    "\n",
    "    d['rating_average'] = json.get('rating_average')\n",
    "    d['review_count'] = json.get('review_count')\n",
    "    d['original_price'] = json.get('original_price')\n",
    "    d['price'] = json.get('price')\n",
    "    d['discount'] = json.get('discount')\n",
    "    d['discount_rate'] = json.get('discount_rate')\n",
    "\n",
    "    d['list_price'] = json.get('list_price')\n",
    "    d['price_usd'] = json.get('price_usd')\n",
    "    d['discount'] = json.get('discount')\n",
    "    d['discount_rate'] = json.get('discount_rate')\n",
    "    \n",
    "    quantity_sold = json.get('quantity_sold')\n",
    "    if quantity_sold is not None:\n",
    "        d['quantity_sold'] = quantity_sold.get('value')\n",
    "        \n",
    "    d['review_count'] = json.get('review_count')\n",
    "    d['order_count'] = json.get('order_count')\n",
    "    d['inventory_status'] = json.get('inventory_status')\n",
    "    d['is_visible'] = json.get('is_visible')\n",
    "    d['product_name'] = json.get('name')\n",
    "\n",
    "    brand = json.get('brand')\n",
    "    if brand is not None:\n",
    "        d['brand_id'] = brand.get('id')\n",
    "        d['brand_name'] = brand.get('name')\n",
    "    \n",
    "    categories_name = json.get('categories')\n",
    "    if categories_name is not None:\n",
    "        d['categories_name'] = categories_name.get('name')\n",
    "     \n",
    "    d['description_short'] = json.get('short_description')\n",
    "    d['product_links'] = json.get('product_links')\n",
    "    d['day_ago_created'] = json.get('day_ago_created')\n",
    "        \n",
    "    inventory = json.get('inventory')\n",
    "    if inventory is not None:\n",
    "        d['fulfillment_type'] = inventory.get('fulfillment_type')\n",
    "        d['product_virtual_type'] = inventory.get('product_virtual_type')\n",
    "\n",
    "    d['inventory_status'] = json.get('inventory_status')    \n",
    "    return d"
   ]
  },
  {
   "cell_type": "code",
   "execution_count": 37,
   "metadata": {},
   "outputs": [],
   "source": [
    "def download_and_parse(pid):\n",
    "    try:\n",
    "        response = requests.get('https://tiki.vn/api/v2/products/{}'.format(pid), headers=headers, params=params)\n",
    "        if response.status_code == 200 and response.text.strip():\n",
    "            return parser_product(response.json())\n",
    "        else:\n",
    "            print(f\"Received status code {response.status_code} for product ID {pid} or response body is empty\")\n",
    "            return None\n",
    "    except (TypeError, ValueError) as e:  # Catch errors related to parsing JSON\n",
    "        print(f\"Error parsing JSON for product ID {pid}: {str(e)}\")\n",
    "        return None"
   ]
  },
  {
   "cell_type": "code",
   "execution_count": 38,
   "metadata": {},
   "outputs": [],
   "source": [
    "pairs = read_src_urlkey_from_txt('./Data/Categories.txt') \n"
   ]
  },
  {
   "cell_type": "code",
   "execution_count": 39,
   "metadata": {},
   "outputs": [
    {
     "name": "stdout",
     "output_type": "stream",
     "text": [
      "Request success on page 1 for c873,  sach-kien-thuc-tong-hop!!!\n",
      "Request success on page 2 for c873,  sach-kien-thuc-tong-hop!!!\n",
      "Request success on page 3 for c873,  sach-kien-thuc-tong-hop!!!\n",
      "Request success on page 4 for c873,  sach-kien-thuc-tong-hop!!!\n",
      "Request success on page 5 for c873,  sach-kien-thuc-tong-hop!!!\n",
      "Request success on page 6 for c873,  sach-kien-thuc-tong-hop!!!\n",
      "Request success on page 7 for c873,  sach-kien-thuc-tong-hop!!!\n",
      "Request success on page 8 for c873,  sach-kien-thuc-tong-hop!!!\n",
      "Request success on page 9 for c873,  sach-kien-thuc-tong-hop!!!\n",
      "Request success on page 10 for c873,  sach-kien-thuc-tong-hop!!!\n",
      "Request success on page 11 for c873,  sach-kien-thuc-tong-hop!!!\n",
      "Request success on page 12 for c873,  sach-kien-thuc-tong-hop!!!\n",
      "Request success on page 13 for c873,  sach-kien-thuc-tong-hop!!!\n",
      "Request success on page 14 for c873,  sach-kien-thuc-tong-hop!!!\n",
      "Request success on page 15 for c873,  sach-kien-thuc-tong-hop!!!\n",
      "Request success on page 16 for c873,  sach-kien-thuc-tong-hop!!!\n",
      "Request success on page 17 for c873,  sach-kien-thuc-tong-hop!!!\n",
      "Request success on page 18 for c873,  sach-kien-thuc-tong-hop!!!\n",
      "Request success on page 19 for c873,  sach-kien-thuc-tong-hop!!!\n",
      "Request success on page 20 for c873,  sach-kien-thuc-tong-hop!!!\n",
      "Request success on page 21 for c873,  sach-kien-thuc-tong-hop!!!\n",
      "Request success on page 22 for c873,  sach-kien-thuc-tong-hop!!!\n",
      "Request success on page 23 for c873,  sach-kien-thuc-tong-hop!!!\n",
      "Request success on page 24 for c873,  sach-kien-thuc-tong-hop!!!\n",
      "Request success on page 25 for c873,  sach-kien-thuc-tong-hop!!!\n",
      "Request success on page 26 for c873,  sach-kien-thuc-tong-hop!!!\n",
      "Request success on page 27 for c873,  sach-kien-thuc-tong-hop!!!\n",
      "Request success on page 28 for c873,  sach-kien-thuc-tong-hop!!!\n",
      "Request success on page 29 for c873,  sach-kien-thuc-tong-hop!!!\n",
      "Request success on page 30 for c873,  sach-kien-thuc-tong-hop!!!\n",
      "Request success on page 31 for c873,  sach-kien-thuc-tong-hop!!!\n",
      "Request success on page 32 for c873,  sach-kien-thuc-tong-hop!!!\n",
      "Request success on page 33 for c873,  sach-kien-thuc-tong-hop!!!\n",
      "Request success on page 34 for c873,  sach-kien-thuc-tong-hop!!!\n",
      "Request success on page 35 for c873,  sach-kien-thuc-tong-hop!!!\n",
      "Request success on page 36 for c873,  sach-kien-thuc-tong-hop!!!\n",
      "Request success on page 37 for c873,  sach-kien-thuc-tong-hop!!!\n",
      "Request success on page 38 for c873,  sach-kien-thuc-tong-hop!!!\n",
      "Request success on page 39 for c873,  sach-kien-thuc-tong-hop!!!\n",
      "Request success on page 40 for c873,  sach-kien-thuc-tong-hop!!!\n",
      "Request success on page 41 for c873,  sach-kien-thuc-tong-hop!!!\n",
      "Request success on page 42 for c873,  sach-kien-thuc-tong-hop!!!\n",
      "No more data on page 43 for c873,  sach-kien-thuc-tong-hop.\n",
      "No more data on page 44 for c873,  sach-kien-thuc-tong-hop.\n",
      "No more data on page 45 for c873,  sach-kien-thuc-tong-hop.\n",
      "No more data on page 46 for c873,  sach-kien-thuc-tong-hop.\n",
      "No more data on page 47 for c873,  sach-kien-thuc-tong-hop.\n",
      "No more data on page 48 for c873,  sach-kien-thuc-tong-hop.\n",
      "No more data on page 49 for c873,  sach-kien-thuc-tong-hop.\n",
      "No more data on page 50 for c873,  sach-kien-thuc-tong-hop.\n",
      "No more data on page 51 for c873,  sach-kien-thuc-tong-hop.\n",
      "No more data on page 52 for c873,  sach-kien-thuc-tong-hop.\n",
      "Completed crawling successfully for src=c873, urlKey= sach-kien-thuc-tong-hop\n"
     ]
    }
   ],
   "source": [
    "for src, urlKey in pairs:\n",
    "    product_id = []\n",
    "    empty_data_count = 0  # Counter for empty data\n",
    "    page = 1\n",
    "    while True:\n",
    "        if empty_data_count >= 10:\n",
    "            break\n",
    "        with concurrent.futures.ThreadPoolExecutor(max_workers=100) as executor:\n",
    "            future = executor.submit(fetch_product_ids, page, src, urlKey)\n",
    "            result, status_code, data_exists = future.result()\n",
    "            product_id.extend(result)\n",
    "            if status_code != 200 or not data_exists:\n",
    "                empty_data_count += 1\n",
    "            else:\n",
    "                empty_data_count = 0  # Reset the counter if there's data\n",
    "            page += 1\n",
    "\n",
    "    df = pd.DataFrame(product_id)\n",
    "    # Save the file with utf-8-sig encoding\n",
    "    df.to_csv(f'./Data/{urlKey}_product_id.csv', index=False, encoding='utf-8-sig')\n",
    "\n",
    "    print('Completed crawling successfully for src={}, urlKey={}'.format(src, urlKey))\n",
    "    time.sleep(5)  # Sleep for 5 seconds between crawling different sources"
   ]
  },
  {
   "cell_type": "code",
   "execution_count": 40,
   "metadata": {},
   "outputs": [],
   "source": [
    "p_ids = df['id'].tolist()"
   ]
  },
  {
   "cell_type": "code",
   "execution_count": 43,
   "metadata": {},
   "outputs": [
    {
     "name": "stderr",
     "output_type": "stream",
     "text": [
      "\r 94%|█████████▍| 1888/2000 [02:39<00:15,  7.29it/s]"
     ]
    },
    {
     "name": "stdout",
     "output_type": "stream",
     "text": [
      "Crawled 1889 items successfully"
     ]
    },
    {
     "name": "stderr",
     "output_type": "stream",
     "text": [
      " 94%|█████████▍| 1890/2000 [02:39<00:14,  7.77it/s]"
     ]
    },
    {
     "name": "stdout",
     "output_type": "stream",
     "text": [
      "\n",
      "Crawled 1890 items successfully\n"
     ]
    },
    {
     "name": "stderr",
     "output_type": "stream",
     "text": [
      " 95%|█████████▍| 1892/2000 [02:39<00:14,  7.54it/s]"
     ]
    },
    {
     "name": "stdout",
     "output_type": "stream",
     "text": [
      "Crawled 1891 items successfully\n",
      "Crawled 1892 items successfully\n"
     ]
    },
    {
     "name": "stderr",
     "output_type": "stream",
     "text": [
      " 95%|█████████▍| 1894/2000 [02:39<00:12,  8.66it/s]"
     ]
    },
    {
     "name": "stdout",
     "output_type": "stream",
     "text": [
      "Crawled 1893 items successfully\n",
      "Crawled 1894 items successfully\n"
     ]
    },
    {
     "name": "stderr",
     "output_type": "stream",
     "text": [
      " 95%|█████████▍| 1896/2000 [02:40<00:13,  7.99it/s]"
     ]
    },
    {
     "name": "stdout",
     "output_type": "stream",
     "text": [
      "Crawled 1895 items successfully\n",
      "Crawled 1896 items successfully\n",
      "Crawled 1897 items successfully\n"
     ]
    },
    {
     "name": "stderr",
     "output_type": "stream",
     "text": [
      " 95%|█████████▌| 1901/2000 [02:40<00:07, 13.60it/s]"
     ]
    },
    {
     "name": "stdout",
     "output_type": "stream",
     "text": [
      "Error parsing JSON for product ID 247340544: Expecting value: line 1 column 1 (char 0)\n",
      "Crawled 1899 items successfully\n",
      "Crawled 1900 items successfully\n",
      "Crawled 1901 items successfully\n"
     ]
    },
    {
     "name": "stderr",
     "output_type": "stream",
     "text": [
      " 95%|█████████▌| 1905/2000 [02:40<00:06, 14.88it/s]"
     ]
    },
    {
     "name": "stdout",
     "output_type": "stream",
     "text": [
      "Error parsing JSON for product ID 139507305: Expecting value: line 1 column 1 (char 0)\n",
      "Crawled 1903 items successfully\n",
      "Error parsing JSON for product ID 152548213: Expecting value: line 1 column 1 (char 0)\n",
      "Error parsing JSON for product ID 248357457: Expecting value: line 1 column 1 (char 0)\n",
      "Error parsing JSON for product ID 73985709: Expecting value: line 1 column 1 (char 0)\n"
     ]
    },
    {
     "name": "stderr",
     "output_type": "stream",
     "text": [
      " 95%|█████████▌| 1908/2000 [02:40<00:05, 16.90it/s]"
     ]
    },
    {
     "name": "stdout",
     "output_type": "stream",
     "text": [
      "Crawled 1907 items successfully\n",
      "Error parsing JSON for product ID 205051177: Expecting value: line 1 column 1 (char 0)\n",
      "Error parsing JSON for product ID 83398188: Expecting value: line 1 column 1 (char 0)\n",
      "Error parsing JSON for product ID 197887886: Expecting value: line 1 column 1 (char 0)\n",
      "Crawled 1911 items successfully\n"
     ]
    },
    {
     "name": "stderr",
     "output_type": "stream",
     "text": [
      " 96%|█████████▌| 1916/2000 [02:41<00:03, 22.55it/s]"
     ]
    },
    {
     "name": "stdout",
     "output_type": "stream",
     "text": [
      "Error parsing JSON for product ID 132776173: Expecting value: line 1 column 1 (char 0)\n",
      "Error parsing JSON for product ID 253390289: Expecting value: line 1 column 1 (char 0)\n",
      "Error parsing JSON for product ID 204249188: Expecting value: line 1 column 1 (char 0)\n",
      "Error parsing JSON for product ID 140479613: Expecting value: line 1 column 1 (char 0)\n",
      "Error parsing JSON for product ID 222682190: Expecting value: line 1 column 1 (char 0)\n",
      "Error parsing JSON for product ID 232710390: Expecting value: line 1 column 1 (char 0)\n",
      "Error parsing JSON for product ID 124069690: Expecting value: line 1 column 1 (char 0)\n",
      "Error parsing JSON for product ID 138814386: Expecting value: line 1 column 1 (char 0)\n"
     ]
    },
    {
     "name": "stderr",
     "output_type": "stream",
     "text": [
      " 96%|█████████▌| 1923/2000 [02:41<00:03, 24.68it/s]"
     ]
    },
    {
     "name": "stdout",
     "output_type": "stream",
     "text": [
      "Error parsing JSON for product ID 81125162: Expecting value: line 1 column 1 (char 0)\n",
      "Error parsing JSON for product ID 133438909: Expecting value: line 1 column 1 (char 0)\n",
      "Error parsing JSON for product ID 117819868: Expecting value: line 1 column 1 (char 0)\n",
      "Error parsing JSON for product ID 162406191: Expecting value: line 1 column 1 (char 0)\n",
      "Error parsing JSON for product ID 170873893: Expecting value: line 1 column 1 (char 0)\n",
      "Error parsing JSON for product ID 162524320: Expecting value: line 1 column 1 (char 0)\n"
     ]
    },
    {
     "name": "stderr",
     "output_type": "stream",
     "text": [
      " 96%|█████████▋| 1926/2000 [02:41<00:03, 22.76it/s]"
     ]
    },
    {
     "name": "stdout",
     "output_type": "stream",
     "text": [
      "Error parsing JSON for product ID 181361773: Expecting value: line 1 column 1 (char 0)Error parsing JSON for product ID 186287166: Expecting value: line 1 column 1 (char 0)\n",
      "\n",
      "Error parsing JSON for product ID 71924330: Expecting value: line 1 column 1 (char 0)\n",
      "Error parsing JSON for product ID 146289211: Expecting value: line 1 column 1 (char 0)\n",
      "Error parsing JSON for product ID 133781516: Expecting value: line 1 column 1 (char 0)\n",
      "Error parsing JSON for product ID 5455343: Expecting value: line 1 column 1 (char 0)\n"
     ]
    },
    {
     "name": "stderr",
     "output_type": "stream",
     "text": [
      " 97%|█████████▋| 1935/2000 [02:41<00:02, 26.84it/s]"
     ]
    },
    {
     "name": "stdout",
     "output_type": "stream",
     "text": [
      "Error parsing JSON for product ID 160432236: Expecting value: line 1 column 1 (char 0)\n",
      "Error parsing JSON for product ID 179993138: Expecting value: line 1 column 1 (char 0)\n",
      "Error parsing JSON for product ID 180105087: Expecting value: line 1 column 1 (char 0)\n",
      "Error parsing JSON for product ID 198292236: Expecting value: line 1 column 1 (char 0)\n",
      "Error parsing JSON for product ID 202222551: Expecting value: line 1 column 1 (char 0)\n"
     ]
    },
    {
     "name": "stderr",
     "output_type": "stream",
     "text": [
      " 97%|█████████▋| 1941/2000 [02:42<00:02, 23.90it/s]"
     ]
    },
    {
     "name": "stdout",
     "output_type": "stream",
     "text": [
      "Error parsing JSON for product ID 72559527: Expecting value: line 1 column 1 (char 0)\n",
      "Error parsing JSON for product ID 153768273: Expecting value: line 1 column 1 (char 0)\n",
      "Error parsing JSON for product ID 178787431: Expecting value: line 1 column 1 (char 0)\n",
      "Error parsing JSON for product ID 117002314: Expecting value: line 1 column 1 (char 0)\n",
      "Error parsing JSON for product ID 575974: Expecting value: line 1 column 1 (char 0)\n",
      "Error parsing JSON for product ID 75339729: Expecting value: line 1 column 1 (char 0)\n",
      "Error parsing JSON for product ID 217768002: Expecting value: line 1 column 1 (char 0)\n"
     ]
    },
    {
     "name": "stderr",
     "output_type": "stream",
     "text": [
      " 97%|█████████▋| 1946/2000 [02:42<00:02, 24.55it/s]"
     ]
    },
    {
     "name": "stdout",
     "output_type": "stream",
     "text": [
      "Error parsing JSON for product ID 203008493: Expecting value: line 1 column 1 (char 0)\n",
      "Error parsing JSON for product ID 218750008: Expecting value: line 1 column 1 (char 0)\n",
      "Error parsing JSON for product ID 214759592: Expecting value: line 1 column 1 (char 0)\n",
      "Error parsing JSON for product ID 127623547: Expecting value: line 1 column 1 (char 0)\n",
      "Error parsing JSON for product ID 200876203: Expecting value: line 1 column 1 (char 0)\n",
      "Error parsing JSON for product ID 105027855: Expecting value: line 1 column 1 (char 0)\n",
      "Error parsing JSON for product ID 261820553: Expecting value: line 1 column 1 (char 0)\n"
     ]
    },
    {
     "name": "stderr",
     "output_type": "stream",
     "text": [
      " 98%|█████████▊| 1956/2000 [02:42<00:01, 27.05it/s]"
     ]
    },
    {
     "name": "stdout",
     "output_type": "stream",
     "text": [
      "Error parsing JSON for product ID 132074588: Expecting value: line 1 column 1 (char 0)\n",
      "Error parsing JSON for product ID 126151275: Expecting value: line 1 column 1 (char 0)\n",
      "Error parsing JSON for product ID 164593190: Expecting value: line 1 column 1 (char 0)\n",
      "Error parsing JSON for product ID 14640564: Expecting value: line 1 column 1 (char 0)\n",
      "Error parsing JSON for product ID 251513894: Expecting value: line 1 column 1 (char 0)\n",
      "Error parsing JSON for product ID 102508672: Expecting value: line 1 column 1 (char 0)\n",
      "Error parsing JSON for product ID 94801597: Expecting value: line 1 column 1 (char 0)\n",
      "Error parsing JSON for product ID 71961217: Expecting value: line 1 column 1 (char 0)\n"
     ]
    },
    {
     "name": "stderr",
     "output_type": "stream",
     "text": [
      " 98%|█████████▊| 1961/2000 [02:42<00:01, 25.57it/s]"
     ]
    },
    {
     "name": "stdout",
     "output_type": "stream",
     "text": [
      "Error parsing JSON for product ID 21682896: Expecting value: line 1 column 1 (char 0)\n",
      "Error parsing JSON for product ID 50740242: Expecting value: line 1 column 1 (char 0)\n",
      "Crawled 1961 items successfully\n",
      "Error parsing JSON for product ID 169594469: Expecting value: line 1 column 1 (char 0)\n",
      "Crawled 1963 items successfully\n",
      "Error parsing JSON for product ID 21201795: Expecting value: line 1 column 1 (char 0)\n"
     ]
    },
    {
     "name": "stderr",
     "output_type": "stream",
     "text": [
      " 98%|█████████▊| 1965/2000 [02:43<00:01, 23.56it/s]"
     ]
    },
    {
     "name": "stdout",
     "output_type": "stream",
     "text": [
      "Crawled 1965 items successfully\n",
      "Error parsing JSON for product ID 82941407: Expecting value: line 1 column 1 (char 0)\n",
      "Error parsing JSON for product ID 202856840: Expecting value: line 1 column 1 (char 0)\n",
      "Error parsing JSON for product ID 193279771: Expecting value: line 1 column 1 (char 0)\n"
     ]
    },
    {
     "name": "stderr",
     "output_type": "stream",
     "text": [
      " 98%|█████████▊| 1969/2000 [02:43<00:01, 19.68it/s]"
     ]
    },
    {
     "name": "stdout",
     "output_type": "stream",
     "text": [
      "Error parsing JSON for product ID 199539210: Expecting value: line 1 column 1 (char 0)Error parsing JSON for product ID 13286988: Expecting value: line 1 column 1 (char 0)\n",
      "\n",
      "Crawled 1971 items successfully\n",
      "Error parsing JSON for product ID 76347549: Expecting value: line 1 column 1 (char 0)\n",
      "Crawled 1973 items successfully\n"
     ]
    },
    {
     "name": "stderr",
     "output_type": "stream",
     "text": [
      " 99%|█████████▉| 1977/2000 [02:43<00:01, 18.65it/s]"
     ]
    },
    {
     "name": "stdout",
     "output_type": "stream",
     "text": [
      "Crawled 1974 items successfully\n",
      "Error parsing JSON for product ID 35875732: Expecting value: line 1 column 1 (char 0)\n",
      "Crawled 1976 items successfully\n",
      "Error parsing JSON for product ID 141009002: Expecting value: line 1 column 1 (char 0)\n"
     ]
    },
    {
     "name": "stderr",
     "output_type": "stream",
     "text": [
      " 99%|█████████▉| 1979/2000 [02:43<00:01, 17.80it/s]"
     ]
    },
    {
     "name": "stdout",
     "output_type": "stream",
     "text": [
      "Error parsing JSON for product ID 246164536: Expecting value: line 1 column 1 (char 0)\n",
      "Crawled 1979 items successfully\n",
      "Error parsing JSON for product ID 99614926: Expecting value: line 1 column 1 (char 0)\n"
     ]
    },
    {
     "name": "stderr",
     "output_type": "stream",
     "text": [
      " 99%|█████████▉| 1981/2000 [02:44<00:01, 18.18it/s]"
     ]
    },
    {
     "name": "stdout",
     "output_type": "stream",
     "text": [
      "Error parsing JSON for product ID 94956481: Expecting value: line 1 column 1 (char 0)\n",
      "Crawled 1982 items successfully\n",
      "Error parsing JSON for product ID 54022832: Expecting value: line 1 column 1 (char 0)\n"
     ]
    },
    {
     "name": "stderr",
     "output_type": "stream",
     "text": [
      " 99%|█████████▉| 1988/2000 [02:44<00:00, 16.54it/s]"
     ]
    },
    {
     "name": "stdout",
     "output_type": "stream",
     "text": [
      "Crawled 1984 items successfully\n",
      "Error parsing JSON for product ID 155717771: Expecting value: line 1 column 1 (char 0)\n",
      "Error parsing JSON for product ID 165219472: Expecting value: line 1 column 1 (char 0)\n",
      "Error parsing JSON for product ID 4630783: Expecting value: line 1 column 1 (char 0)\n",
      "Error parsing JSON for product ID 56247996: Expecting value: line 1 column 1 (char 0)\n",
      "Crawled 1989 items successfully\n",
      "Error parsing JSON for product ID 16178393: Expecting value: line 1 column 1 (char 0)\n",
      "Crawled 1991 items successfully\n"
     ]
    },
    {
     "name": "stderr",
     "output_type": "stream",
     "text": [
      "100%|█████████▉| 1994/2000 [02:44<00:00, 17.48it/s]"
     ]
    },
    {
     "name": "stdout",
     "output_type": "stream",
     "text": [
      "Error parsing JSON for product ID 192473147: Expecting value: line 1 column 1 (char 0)\n",
      "Crawled 1993 items successfully\n",
      "Error parsing JSON for product ID 112218352: Expecting value: line 1 column 1 (char 0)\n",
      "Error parsing JSON for product ID 150849958: Expecting value: line 1 column 1 (char 0)\n",
      "Error parsing JSON for product ID 32376222: Expecting value: line 1 column 1 (char 0)\n"
     ]
    },
    {
     "name": "stderr",
     "output_type": "stream",
     "text": [
      "100%|█████████▉| 1999/2000 [02:45<00:00, 17.03it/s]"
     ]
    },
    {
     "name": "stdout",
     "output_type": "stream",
     "text": [
      "Crawled 1997 items successfully\n",
      "Error parsing JSON for product ID 88069618: Expecting value: line 1 column 1 (char 0)\n",
      "Error parsing JSON for product ID 52785428: Expecting value: line 1 column 1 (char 0)\n"
     ]
    },
    {
     "name": "stderr",
     "output_type": "stream",
     "text": [
      "100%|██████████| 2000/2000 [02:45<00:00, 12.10it/s]"
     ]
    },
    {
     "name": "stdout",
     "output_type": "stream",
     "text": [
      "Error parsing JSON for product ID 165085520: Expecting value: line 1 column 1 (char 0)\n"
     ]
    },
    {
     "name": "stderr",
     "output_type": "stream",
     "text": [
      "\n"
     ]
    }
   ],
   "source": [
    "# Use ThreadPoolExecutor\n",
    "result = []\n",
    "lines_printed = 0\n",
    "clear_after = 50  # Clear output after this many lines\n",
    "with concurrent.futures.ThreadPoolExecutor(max_workers=5) as executor:\n",
    "    futures = {executor.submit(download_and_parse, pid): pid for pid in p_ids}\n",
    "    \n",
    "    # Init tqdm bar\n",
    "    with tqdm(total=len(p_ids)) as pbar:\n",
    "        for i, future in enumerate(concurrent.futures.as_completed(futures)):\n",
    "            pid = futures[future]\n",
    "            try:\n",
    "                data = future.result()\n",
    "                if data is not None:\n",
    "                    result.append(data)\n",
    "                    print('Crawled {} items successfully'.format(i + 1))\n",
    "                    lines_printed += 1\n",
    "                # Clear output after every 'clear_after' lines\n",
    "                if lines_printed >= clear_after:\n",
    "                    clear_output(wait=True)\n",
    "                    lines_printed = 0\n",
    "            except Exception as exc:\n",
    "                print('%r generated an exception: %s' % (pid, exc))\n",
    "            # Update tqdm bar\n",
    "            pbar.update()\n",
    "            \n",
    "df_product = pd.DataFrame(result)\n",
    "df_product.to_csv('./Data/product_data.csv', index=False, encoding='utf-8-sig')"
   ]
  },
  {
   "cell_type": "code",
   "execution_count": 42,
   "metadata": {},
   "outputs": [
    {
     "name": "stdout",
     "output_type": "stream",
     "text": [
      "<class 'pandas.core.frame.DataFrame'>\n",
      "RangeIndex: 1027 entries, 0 to 1026\n",
      "Data columns (total 27 columns):\n",
      " #   Column                  Non-Null Count  Dtype  \n",
      "---  ------                  --------------  -----  \n",
      " 0   id                      1027 non-null   int64  \n",
      " 1   master_id               1027 non-null   int64  \n",
      " 2   sku                     1027 non-null   object \n",
      " 3   all_time_quantity_sold  984 non-null    float64\n",
      " 4   breadcrumb_name         1027 non-null   object \n",
      " 5   breadcrumb_category_id  1027 non-null   int64  \n",
      " 6   quantity_sold           984 non-null    float64\n",
      " 7   rating_average          1027 non-null   float64\n",
      " 8   review_count            1027 non-null   int64  \n",
      " 9   original_price          1027 non-null   int64  \n",
      " 10  price                   1027 non-null   int64  \n",
      " 11  discount                1027 non-null   int64  \n",
      " 12  discount_rate           1027 non-null   int64  \n",
      " 13  list_price              1027 non-null   int64  \n",
      " 14  price_usd               0 non-null      object \n",
      " 15  order_count             0 non-null      object \n",
      " 16  inventory_status        1027 non-null   object \n",
      " 17  is_visible              0 non-null      object \n",
      " 18  product_name            1027 non-null   object \n",
      " 19  brand_id                1027 non-null   int64  \n",
      " 20  brand_name              1027 non-null   object \n",
      " 21  categories_name         1027 non-null   object \n",
      " 22  description_short       1027 non-null   object \n",
      " 23  product_links           1027 non-null   object \n",
      " 24  day_ago_created         1027 non-null   int64  \n",
      " 25  fulfillment_type        1027 non-null   object \n",
      " 26  product_virtual_type    0 non-null      object \n",
      "dtypes: float64(3), int64(11), object(13)\n",
      "memory usage: 216.8+ KB\n"
     ]
    }
   ],
   "source": [
    "df_product.info()"
   ]
  }
 ],
 "metadata": {
  "kernelspec": {
   "display_name": "base",
   "language": "python",
   "name": "python3"
  },
  "language_info": {
   "codemirror_mode": {
    "name": "ipython",
    "version": 3
   },
   "file_extension": ".py",
   "mimetype": "text/x-python",
   "name": "python",
   "nbconvert_exporter": "python",
   "pygments_lexer": "ipython3",
   "version": "3.11.4"
  },
  "orig_nbformat": 4
 },
 "nbformat": 4,
 "nbformat_minor": 2
}
